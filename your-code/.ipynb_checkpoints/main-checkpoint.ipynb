{
 "cells": [
  {
   "cell_type": "markdown",
   "metadata": {},
   "source": [
    "# Before your start:\n",
    "\n",
    "    Read the README.md file\n",
    "    Comment as much as you can and use the resources (README.md file)\n",
    "    Happy learning!"
   ]
  },
  {
   "cell_type": "markdown",
   "metadata": {},
   "source": [
    "In this exercise, we  will generate random numbers from the continuous disributions we learned in the lesson. There are two ways to generate random numbers:\n",
    "\n",
    "1. Using the numpy library \n",
    "1. using the Scipy library \n",
    "\n",
    "Use either or both of the lbraries in this exercise."
   ]
  },
  {
   "cell_type": "code",
   "execution_count": 11,
   "metadata": {},
   "outputs": [],
   "source": [
    "from scipy import stats\n",
    "import matplotlib.pyplot as plt\n",
    "import pandas as pd\n",
    "import numpy as np\n",
    "import math"
   ]
  },
  {
   "cell_type": "markdown",
   "metadata": {},
   "source": [
    "## Uniform Distribution\n",
    "\n",
    "To generate uniform random numbers between any two given values using scipy, we can either use the following code or the code that we have\n",
    "discussed in class:"
   ]
  },
  {
   "cell_type": "code",
   "execution_count": 12,
   "metadata": {},
   "outputs": [
    {
     "name": "stdout",
     "output_type": "stream",
     "text": [
      "[2.85295914 2.0958799  2.02211617 2.81706531 2.91719574 2.294935\n",
      " 2.24499069 2.88567827 2.10682857 2.69955513]\n"
     ]
    }
   ],
   "source": [
    "from scipy.stats import uniform\n",
    "x = uniform.rvs(size=10)\n",
    "a = 2\n",
    "b = 3\n",
    "randoms  = a + (b-a)*x\n",
    "print(randoms)"
   ]
  },
  {
   "cell_type": "markdown",
   "metadata": {},
   "source": [
    "**Your task:**\n",
    "\n",
    "1. Based on the code above, write a function that generates uniformly distributed random numbers. There are several requirements for your function:\n",
    "    * It should accept 3 parameters: \n",
    "        * `bottom` - the lower boundary of the generated numbers\n",
    "        * `ceiling` - the upper boundary of the generated numbers\n",
    "        * `count` - how many numbers to generate\n",
    "    * It should return an array of uniformly distributed random numbers\n",
    "\n",
    "1. Call your function with 2 sets of params below:\n",
    "    * bottom=10, ceiling=15, count=100\n",
    "    * bottom=10, ceiling=60, count=1,000\n",
    "\n",
    "1. Plot the uniform distributions generated above using histograms, where x axis is the value and y axis is the count. Let the histogram's number of bins be 10.\n",
    "\n",
    "Your output should look like below:\n",
    "\n",
    "![uniform distribution](ud.png)"
   ]
  },
  {
   "cell_type": "code",
   "execution_count": 13,
   "metadata": {},
   "outputs": [
    {
     "name": "stdout",
     "output_type": "stream",
     "text": [
      "[1.35776579e-01 6.36347785e-01 9.49757299e-02 6.96634045e-01\n",
      " 8.80870767e-02 3.98379784e-02 3.94422199e-01 9.20776588e-01\n",
      " 3.50801233e-01 6.34593746e-01 9.34330588e-02 7.30850699e-02\n",
      " 9.02028303e-01 8.56798041e-01 4.20066249e-01 9.81608494e-01\n",
      " 3.18571067e-01 3.59208493e-01 3.34118575e-01 4.21745420e-01\n",
      " 1.16880662e-01 6.46140609e-04 2.55954268e-02 2.95560602e-01\n",
      " 8.87683881e-01 7.97799003e-01 2.58730789e-01 2.32940758e-01\n",
      " 2.20713511e-02 7.88473494e-01 9.46932749e-01 1.00767873e-01\n",
      " 7.38528136e-02 1.56328089e-02 4.10257144e-01 9.26722218e-02\n",
      " 7.28168327e-01 6.06184780e-01 9.84849967e-02 6.72125771e-01\n",
      " 1.32412959e-01 1.91104124e-01 8.38378241e-01 5.86300046e-01\n",
      " 3.77230342e-01 5.36272502e-01 7.04634133e-01 3.24462773e-01\n",
      " 4.46075394e-01 4.63157861e-02 2.52604947e-01 6.47798512e-01\n",
      " 6.45687473e-01 4.50758755e-01 8.24063185e-01 2.67810411e-01\n",
      " 8.44308094e-01 4.58845483e-01 4.36499878e-01 3.54569076e-01\n",
      " 6.43372876e-01 3.60163948e-01 2.70795627e-01 4.85095406e-01\n",
      " 3.07204666e-01 6.34024352e-01 8.51204004e-01 4.59941778e-01\n",
      " 7.06439914e-01 4.41392470e-01 5.68788632e-01 1.35775438e-01\n",
      " 6.06164874e-02 3.75515134e-01 5.95448667e-01 9.53863503e-01\n",
      " 1.86300344e-01 5.52000801e-01 9.28646859e-01 8.89019916e-01\n",
      " 9.68817831e-02 8.26501934e-01 2.35126141e-01 1.80601224e-01\n",
      " 5.81006963e-01 5.90092743e-01 4.08560659e-01 3.46225725e-01\n",
      " 9.51290648e-01 1.50463838e-01 6.54158264e-01 5.98298949e-01\n",
      " 8.65961094e-01 4.47076604e-01 5.37068447e-02 6.59814922e-02\n",
      " 3.85700120e-02 6.65688500e-01 1.26478565e-01 5.56733694e-01]\n",
      "[8.87833906e-02 3.01066368e-01 6.06501340e-01 3.36742879e-01\n",
      " 4.94977078e-01 3.10345000e-01 9.20437051e-01 1.61857557e-02\n",
      " 4.03000951e-01 3.59353503e-01 3.88538601e-01 4.82965201e-01\n",
      " 2.02118435e-01 6.15519136e-01 3.58172654e-01 9.91498604e-01\n",
      " 1.50416371e-01 2.68940695e-01 6.71691631e-01 6.35379626e-03\n",
      " 1.75820109e-01 9.97566779e-01 1.51015611e-01 8.73657451e-01\n",
      " 6.59880745e-01 3.64716691e-01 3.78598880e-01 9.10174325e-01\n",
      " 7.99594220e-01 2.49396154e-02 2.10959048e-01 6.20463963e-01\n",
      " 9.93406702e-01 4.30524149e-01 8.93372541e-01 9.01940285e-01\n",
      " 4.03515605e-01 1.31666805e-01 5.72469633e-01 4.09668209e-02\n",
      " 3.45209483e-01 5.38186160e-01 3.13499258e-01 3.10892596e-01\n",
      " 7.01828460e-01 8.93443699e-01 5.01973445e-01 2.46323664e-01\n",
      " 9.68670995e-01 4.45860440e-01 5.15267898e-01 2.15306341e-01\n",
      " 6.63096264e-02 3.47244767e-01 5.41500032e-01 9.02246305e-01\n",
      " 8.02976807e-01 4.80085995e-02 3.94005349e-01 5.51777321e-02\n",
      " 8.43089336e-01 3.66299904e-01 5.27387335e-01 4.94331193e-01\n",
      " 7.67619710e-01 6.82498430e-01 5.63403326e-01 6.87477049e-01\n",
      " 9.61551278e-01 2.02600312e-01 5.14190968e-01 1.95642364e-01\n",
      " 8.57325686e-01 2.34680183e-01 7.49586354e-01 1.52380470e-01\n",
      " 7.78749219e-01 7.31123603e-01 4.20324124e-01 1.94680364e-01\n",
      " 4.50869881e-01 3.43559357e-01 5.84520089e-01 2.18767598e-01\n",
      " 1.95883621e-01 4.49825884e-01 9.94870102e-01 8.41048625e-01\n",
      " 2.92650965e-01 4.66885209e-01 9.85917210e-01 6.15570021e-01\n",
      " 2.37832965e-01 4.07325012e-01 4.94607978e-01 8.23061304e-01\n",
      " 5.20802743e-01 6.40908930e-01 2.47931343e-01 5.19704135e-01\n",
      " 6.77254611e-01 4.71067141e-01 9.84063140e-01 4.31324546e-02\n",
      " 3.06557096e-01 4.73031342e-01 8.19584522e-01 7.97226473e-02\n",
      " 1.51343316e-01 6.55605011e-01 1.96304169e-01 7.59078434e-01\n",
      " 6.47995614e-01 4.71376032e-02 5.25041896e-01 1.86166983e-01\n",
      " 5.23560318e-02 2.88050948e-01 1.80752649e-01 3.06557321e-02\n",
      " 5.45250126e-01 9.55141097e-01 5.17956640e-02 5.64180125e-01\n",
      " 7.60103007e-01 2.91346367e-01 8.01094650e-01 1.08233150e-01\n",
      " 3.61512454e-02 8.30727970e-01 3.86226680e-01 1.62921217e-01\n",
      " 5.94760452e-02 3.82932720e-01 3.23922720e-01 1.12211697e-01\n",
      " 3.89851140e-01 4.29610690e-01 6.60034125e-01 7.82868943e-01\n",
      " 2.23521824e-01 7.92724390e-01 7.19118750e-01 1.85501972e-01\n",
      " 9.28716592e-01 5.09689598e-01 3.65301361e-01 6.83161270e-01\n",
      " 8.13012387e-01 2.77343028e-01 2.45495422e-01 2.47350501e-04\n",
      " 6.24156143e-01 9.02290617e-01 8.75041265e-01 6.64809207e-02\n",
      " 3.38426307e-01 7.35231389e-01 7.55154893e-01 6.94573216e-01\n",
      " 8.80986374e-01 5.08405061e-01 1.18793249e-01 7.72883682e-01\n",
      " 1.93722173e-01 3.50412790e-01 3.89131246e-01 4.78097013e-01\n",
      " 4.17245738e-01 5.07311946e-01 4.19604124e-01 8.32289215e-02\n",
      " 2.63875917e-01 4.45262401e-01 8.07315228e-01 7.78630132e-01\n",
      " 7.54650825e-01 1.11153927e-01 1.12318746e-01 5.71325440e-02\n",
      " 6.73563222e-02 2.58333471e-01 8.46835162e-02 5.47365563e-01\n",
      " 8.92252871e-01 1.50144044e-01 5.68150701e-02 4.77086287e-01\n",
      " 8.75788947e-01 9.88073200e-01 1.97072931e-01 2.64860975e-01\n",
      " 7.77807597e-01 6.18665506e-01 8.22438674e-01 4.47089928e-01\n",
      " 8.55893619e-01 6.56706978e-01 6.10989784e-01 5.06285310e-01\n",
      " 2.60533108e-01 1.30625560e-01 9.04352262e-01 5.96304629e-01\n",
      " 3.85972074e-01 1.26186080e-01 3.82492281e-01 2.11335865e-01\n",
      " 5.26905468e-01 5.32709256e-01 8.25678693e-01 4.19920870e-01\n",
      " 4.11803372e-01 4.46548762e-01 9.32004067e-01 1.74436891e-02\n",
      " 1.11236721e-01 3.20136800e-01 7.21464119e-01 1.13980898e-01\n",
      " 2.69172697e-02 6.08399982e-03 4.48387569e-01 6.66252495e-01\n",
      " 2.97491600e-01 9.33681012e-01 7.72919866e-01 7.10852228e-01\n",
      " 1.51437297e-02 4.95475580e-01 9.49171206e-01 9.32405981e-02\n",
      " 2.70333856e-01 8.67909336e-01 2.12775652e-01 1.87201599e-01\n",
      " 6.93865244e-01 5.82733481e-01 9.14786062e-01 4.65308074e-01\n",
      " 5.73585600e-01 3.67182231e-01 6.69548803e-01 4.26462345e-01\n",
      " 4.81980900e-01 5.97506423e-01 9.55719000e-01 9.64861370e-01\n",
      " 5.63385090e-01 6.11998554e-02 6.25184066e-01 4.45716236e-01\n",
      " 5.92715944e-01 1.23978178e-01 5.18885350e-01 8.80734085e-01\n",
      " 3.91803071e-01 3.29262843e-01 3.03149624e-01 5.66676705e-01\n",
      " 2.25206795e-01 6.44233007e-01 9.95908656e-01 8.39653744e-02\n",
      " 2.97113680e-01 7.05878519e-01 7.22199170e-01 6.91944299e-01\n",
      " 6.63182626e-01 1.36038172e-01 4.37698528e-01 9.49440819e-01\n",
      " 8.28341510e-01 7.76312180e-01 9.59733738e-01 9.50486957e-01\n",
      " 3.30535699e-01 7.65969447e-01 8.17756006e-01 7.75717075e-01\n",
      " 3.46041564e-01 5.78045294e-01 9.64819546e-01 3.27081426e-02\n",
      " 5.29238236e-01 9.10477985e-02 6.92913699e-02 1.65041181e-01\n",
      " 8.32235712e-01 2.09182009e-02 9.03721368e-01 1.10969390e-01\n",
      " 8.64776607e-01 8.96815251e-01 3.00480293e-01 8.45882557e-01\n",
      " 5.39058284e-01 2.66431851e-01 3.96579947e-01 2.75515890e-01\n",
      " 8.43028901e-01 3.42731491e-01 3.38377086e-01 4.01911853e-01\n",
      " 5.73717198e-01 2.65735840e-01 5.46067404e-01 3.57372551e-01\n",
      " 6.49022057e-01 6.29886404e-01 9.48196346e-01 8.20685883e-01\n",
      " 7.94463071e-01 3.21283245e-02 4.59711803e-01 9.39587754e-01\n",
      " 2.44970464e-01 9.71309441e-01 6.30235139e-01 7.66327451e-01\n",
      " 7.00680698e-01 8.76763573e-01 4.88134641e-01 1.25240201e-01\n",
      " 5.28546720e-02 5.19234982e-01 4.90786989e-01 6.56180371e-01\n",
      " 2.18947506e-01 2.29251445e-01 8.15192434e-02 1.84339948e-01\n",
      " 5.18491854e-01 8.90857272e-01 3.04498450e-01 3.20302994e-01\n",
      " 2.21729685e-01 3.65395299e-01 3.37744378e-01 8.13747297e-01\n",
      " 4.49832992e-01 9.75940179e-01 7.16420238e-02 9.82404159e-01\n",
      " 3.76687929e-01 4.95937295e-01 5.79691880e-01 3.56627302e-01\n",
      " 6.36837055e-01 5.93111601e-01 3.59526676e-01 1.58405499e-01\n",
      " 7.92024000e-01 9.23753591e-01 8.21712708e-01 1.48339362e-01\n",
      " 4.77618759e-01 8.34738018e-01 7.86059217e-03 6.56593562e-01\n",
      " 3.94462015e-01 9.18265526e-01 1.71040715e-02 4.82814537e-01\n",
      " 8.53896162e-01 3.66841369e-01 5.97911931e-01 5.20222945e-01\n",
      " 1.45378792e-01 1.43720143e-01 3.04828996e-01 8.49009896e-01\n",
      " 9.61395981e-01 5.09568658e-01 4.55982957e-01 3.90762482e-01\n",
      " 4.08504981e-01 3.12287406e-01 2.11100487e-02 5.70902954e-01\n",
      " 8.93565837e-01 6.87979852e-01 5.25155632e-01 8.01293149e-01\n",
      " 6.83769320e-01 8.31209849e-01 2.45271820e-01 5.34348348e-01\n",
      " 8.26502826e-01 3.84832600e-01 9.89575210e-01 4.53397561e-01\n",
      " 8.98206016e-01 7.07755392e-01 7.46867226e-01 6.76053916e-01\n",
      " 7.55149754e-01 8.05953669e-01 7.14748390e-01 4.20939526e-01\n",
      " 1.93460772e-01 3.75439749e-01 7.02373621e-01 3.06124398e-01\n",
      " 9.45545588e-01 7.78911639e-01 4.70851042e-01 2.06431739e-01\n",
      " 4.50699311e-01 9.70568412e-01 2.44546130e-01 7.51981924e-01\n",
      " 7.36952202e-01 2.90646230e-01 2.89291254e-01 1.54920021e-01\n",
      " 8.01802553e-02 3.95852172e-01 7.10025331e-01 6.26831880e-01\n",
      " 8.30551881e-01 5.60044153e-01 3.48501357e-01 8.59507159e-01\n",
      " 2.51744825e-01 9.60497266e-01 5.40205800e-01 5.53185537e-01\n",
      " 8.04582527e-01 4.91149250e-02 1.46759143e-01 4.35324759e-01\n",
      " 4.72120679e-01 3.11083641e-02 7.88302690e-01 4.93777367e-01\n",
      " 9.82351025e-02 5.11741614e-01 1.53551716e-01 6.67890345e-01\n",
      " 3.38764123e-01 2.32252947e-01 4.78871410e-01 3.05111703e-01\n",
      " 9.37851981e-01 5.38031209e-01 6.17656258e-01 4.52851260e-02\n",
      " 1.41930251e-02 9.53464996e-01 3.55162455e-01 9.54004298e-01\n",
      " 4.68809146e-02 6.25624007e-01 5.24333303e-01 3.19227387e-01\n",
      " 8.81978331e-01 7.24288186e-01 7.78490426e-01 4.59294995e-01\n",
      " 7.67452803e-01 9.10327878e-01 5.10931254e-01 1.20904206e-01\n",
      " 9.63686033e-01 8.69413872e-02 3.36363205e-01 4.31771421e-01\n",
      " 7.16599805e-01 7.64975437e-02 3.68533280e-01 5.32750623e-01\n",
      " 7.93279740e-01 8.40428686e-01 5.30301012e-01 3.82687713e-01\n",
      " 1.32848454e-01 5.33845841e-02 2.90463652e-01 4.92500988e-01\n",
      " 3.17789924e-01 4.77021993e-02 6.49577053e-01 8.31974975e-01\n",
      " 8.44891385e-01 3.05972743e-01 8.71079246e-01 1.01132493e-01\n",
      " 7.75456774e-01 6.09690629e-01 9.36513887e-01 7.49623795e-01\n",
      " 6.69112024e-01 3.55063099e-01 5.23769070e-01 7.92267780e-01\n",
      " 8.87363576e-02 9.34064583e-01 8.28874284e-01 5.71272792e-01\n",
      " 3.40562948e-01 8.94606406e-01 9.58172883e-01 8.91016610e-01\n",
      " 3.19009372e-01 8.01679255e-01 4.99721167e-01 6.26344021e-01\n",
      " 4.70290934e-03 3.30471318e-01 8.03375699e-01 6.96359451e-02\n",
      " 6.31746231e-01 1.56424378e-01 9.31873018e-01 5.76784191e-01\n",
      " 8.52733963e-01 2.79910070e-01 7.79276064e-01 4.60111656e-01\n",
      " 6.80538300e-01 4.69523004e-02 1.66464794e-01 1.11344161e-01\n",
      " 9.28743974e-02 9.64362892e-01 7.33138111e-01 5.37330694e-02\n",
      " 1.89737523e-01 9.19783734e-01 9.79180904e-01 4.05629220e-01\n",
      " 8.80269567e-01 3.86077856e-01 6.70407878e-01 7.65099826e-01\n",
      " 5.91357679e-01 3.16422879e-01 3.72813201e-01 7.65016515e-01\n",
      " 8.23279667e-01 5.05464101e-02 5.50502025e-01 8.55387449e-01\n",
      " 8.60374189e-01 3.01280286e-01 3.72379697e-01 9.95568136e-01\n",
      " 1.80202527e-01 5.24449142e-01 2.21267087e-01 6.80324674e-01\n",
      " 7.34353250e-02 5.84000154e-01 1.61188975e-01 8.56035128e-01\n",
      " 8.30153317e-01 3.22770606e-01 7.22073385e-01 2.29290703e-01\n",
      " 4.13574176e-01 6.76054551e-01 1.52095322e-01 9.55617547e-01\n",
      " 2.78035055e-01 4.17329393e-02 2.12402188e-01 6.64286482e-01\n",
      " 9.42122995e-01 1.16543144e-01 3.30485192e-02 3.22108028e-01\n",
      " 4.22275139e-01 8.60638499e-01 2.43971703e-01 7.37448314e-01\n",
      " 2.98636207e-01 1.64742199e-01 7.85223967e-01 4.01321631e-01\n",
      " 8.65461553e-01 1.93469333e-01 2.31621854e-01 9.10947020e-01\n",
      " 6.21616966e-03 4.30980743e-01 9.96927827e-02 2.72324303e-01\n",
      " 5.03852283e-01 9.39624009e-01 8.84753820e-01 8.42104190e-01\n",
      " 5.93450742e-01 4.28114452e-01 3.82810886e-01 8.60059414e-01\n",
      " 1.29793355e-01 5.37249801e-01 4.25477548e-01 7.41574291e-01\n",
      " 4.98604692e-01 9.40998764e-01 6.33297906e-01 6.40661254e-01\n",
      " 1.45160163e-01 5.99709004e-01 5.63947634e-01 2.36613998e-01\n",
      " 3.54214603e-01 1.82040604e-01 3.36866535e-01 6.63008730e-01\n",
      " 6.23140210e-01 6.69303552e-01 5.12073660e-01 5.64327496e-01\n",
      " 5.02214655e-01 7.64272816e-01 8.32941299e-01 7.62683849e-01\n",
      " 2.14777426e-01 8.34930702e-01 2.99579384e-01 1.28843943e-01\n",
      " 7.05114132e-01 8.86503400e-01 5.82923624e-01 5.20002394e-01\n",
      " 2.33043612e-01 6.39503394e-02 8.03061559e-01 5.76912272e-01\n",
      " 1.35879637e-01 1.49656822e-01 6.62985117e-01 9.51128614e-01\n",
      " 6.91529875e-01 5.64479676e-01 9.78150991e-01 7.06650665e-01\n",
      " 7.92196911e-01 1.31082347e-01 1.38298948e-01 2.25198253e-01\n",
      " 6.81046429e-01 9.68987332e-01 9.01249568e-01 5.41465094e-01\n",
      " 4.44385409e-01 2.26266057e-01 9.64595701e-01 3.47371921e-01\n",
      " 3.20042621e-01 3.66638905e-01 2.44103316e-01 8.53167383e-01\n",
      " 8.29564430e-01 6.48077262e-01 3.92992579e-02 3.77881467e-01\n",
      " 5.20332229e-02 3.99327180e-01 3.68729747e-01 7.08437485e-01\n",
      " 9.84688678e-01 1.57141075e-01 8.50574249e-01 1.31954111e-01\n",
      " 4.06955770e-01 4.70554362e-01 9.11844469e-01 4.63448577e-01\n",
      " 7.55134997e-01 4.51712553e-01 6.64123345e-01 6.27672564e-01\n",
      " 1.19162800e-01 3.69721061e-01 8.31108968e-01 7.47184512e-01\n",
      " 6.75674139e-01 3.24881179e-01 1.14420856e-01 8.67559638e-01\n",
      " 1.06554581e-01 8.56403674e-01 3.03199964e-01 4.03691756e-01\n",
      " 9.16484189e-01 3.32573826e-01 8.77917191e-01 9.89127035e-02\n",
      " 9.09733875e-01 1.52339162e-01 2.59860128e-01 1.77369988e-01\n",
      " 3.35587737e-01 8.79233267e-01 7.38571897e-01 5.44310353e-01\n",
      " 4.67744410e-01 5.58616932e-01 1.64989344e-01 4.32618832e-01\n",
      " 8.41683221e-01 9.49751577e-01 7.49159229e-01 3.01241898e-01\n",
      " 4.68163205e-01 9.37411115e-02 8.56078229e-01 8.77773367e-01\n",
      " 5.52759852e-01 4.95330417e-01 7.21818332e-01 8.96270279e-01\n",
      " 6.73415032e-01 7.63029148e-01 4.93330240e-01 4.20121610e-01\n",
      " 9.23590206e-01 8.83834387e-01 6.95511805e-01 5.27564367e-01\n",
      " 7.80555302e-01 5.35783466e-02 6.47916259e-01 4.00090681e-02\n",
      " 9.81970432e-02 8.40024928e-01 7.88209312e-01 1.88309989e-01\n",
      " 8.51627006e-01 2.85577559e-01 6.85652057e-01 9.92951339e-01\n",
      " 4.87869331e-01 6.56860717e-01 1.62620937e-03 7.45163742e-01\n",
      " 4.30390838e-01 4.82332435e-01 7.18932051e-02 5.08131232e-01\n",
      " 7.73408776e-01 2.17713811e-01 7.30301557e-01 7.71721948e-01\n",
      " 5.97718781e-01 6.32856385e-01 4.63654528e-01 3.21014582e-02\n",
      " 8.96049855e-01 3.71950808e-01 4.57449555e-02 4.89816517e-01\n",
      " 1.54575314e-01 5.04721788e-01 4.58297431e-01 2.50200734e-01\n",
      " 6.97310167e-01 3.97278511e-01 3.23038925e-01 5.77401784e-01\n",
      " 2.58517943e-01 4.80066594e-01 5.35413734e-02 1.96134271e-01\n",
      " 3.29804336e-01 1.53287670e-01 1.05604697e-01 2.78682400e-01\n",
      " 5.09997759e-02 2.81075300e-03 1.43675782e-01 3.83189695e-01\n",
      " 7.46329833e-01 9.30518534e-01 3.58394134e-02 6.02467663e-01\n",
      " 3.07726273e-01 2.89761414e-01 3.21809189e-01 9.43187555e-01\n",
      " 9.52172171e-01 1.65874275e-01 5.55020373e-01 3.96242001e-02\n",
      " 6.58493464e-01 7.61257654e-02 3.25150635e-01 8.65812134e-01\n",
      " 8.33792851e-01 7.63408860e-01 1.90719734e-01 1.59122869e-01\n",
      " 4.99259460e-01 4.41983068e-01 7.12352955e-01 4.12102746e-01\n",
      " 8.53319605e-01 7.79917004e-01 3.60912824e-01 5.87971349e-01\n",
      " 9.06303077e-01 2.29719918e-01 9.21438940e-01 4.85194588e-01\n",
      " 7.88768667e-01 7.74286306e-01 9.74300926e-01 5.55938245e-01\n",
      " 4.73278536e-01 9.71627560e-01 5.50447249e-01 4.45100046e-01\n",
      " 6.30036699e-01 8.78260961e-01 5.89422525e-01 3.92203064e-01\n",
      " 5.95809465e-01 2.12872799e-01 1.49342521e-01 5.58889420e-02\n",
      " 4.44914869e-01 3.98985534e-01 2.85994234e-01 5.20675642e-01\n",
      " 4.56300715e-01 6.28097840e-01 1.33167697e-01 2.01351010e-01\n",
      " 2.66518780e-01 7.02909757e-02 1.17364748e-01 6.35805049e-01\n",
      " 1.43870552e-01 8.14978590e-01 6.26078732e-01 7.63573208e-01\n",
      " 1.29075709e-01 8.94678722e-01 1.61313115e-01 2.12327686e-01\n",
      " 6.82427206e-01 4.91946291e-01 1.24835488e-01 6.00628998e-01\n",
      " 1.13230180e-02 4.32596680e-01 3.00749722e-01 9.90051796e-01\n",
      " 8.75986260e-02 4.39109549e-01 5.91034840e-02 7.77106656e-01\n",
      " 2.27571210e-01 7.61076771e-01 2.26439120e-02 3.33424783e-01\n",
      " 8.97859281e-03 7.94077025e-02 3.29613208e-01 8.10843281e-01\n",
      " 1.20101765e-01 2.86999098e-01 1.10505924e-01 9.13526570e-01\n",
      " 2.60254880e-01 6.32647978e-01 5.18566088e-01 6.17008784e-01\n",
      " 9.63354564e-01 6.65917792e-01 8.82288856e-01 5.65072493e-01\n",
      " 2.22397444e-01 6.92879440e-01 7.64875224e-01 2.25591339e-01\n",
      " 3.04363917e-02 3.64152081e-01 6.33283230e-01 1.08389809e-01\n",
      " 7.51452610e-01 5.61996752e-01 6.21587348e-01 9.97488008e-01\n",
      " 7.85463937e-01 2.78527701e-02 4.14849431e-01 5.66810932e-01\n",
      " 2.89129675e-01 7.01659358e-01 4.74121380e-01 1.73485473e-01\n",
      " 4.28180937e-01 3.65413167e-02 8.75948232e-01 4.59743912e-01\n",
      " 8.90547528e-02 2.28523496e-01 5.88924283e-01 8.77312195e-01\n",
      " 7.95644372e-01 5.87719511e-01 6.25324799e-01 6.25990739e-01\n",
      " 8.97116708e-01 5.68818868e-01 4.45599478e-01 1.17282669e-01\n",
      " 7.29960003e-01 2.96043664e-01 4.06429921e-01 7.13572278e-02\n",
      " 6.57838953e-02 1.99017389e-01 4.20744821e-01 3.33341305e-01\n",
      " 3.89046328e-01 1.80837997e-01 1.61793486e-01 5.55486605e-01\n",
      " 1.17334135e-01 1.52912915e-01 2.45283792e-01 9.54436984e-01\n",
      " 7.61140279e-02 7.93441952e-02 3.05719799e-01 9.08146749e-01\n",
      " 2.82414391e-01 1.31880398e-01 6.74706737e-01 1.16325283e-01\n",
      " 7.49091763e-01 4.67367946e-01 4.36867670e-01 1.74207290e-01\n",
      " 7.31382734e-01 9.16856087e-01 1.87913580e-01 3.85462176e-01\n",
      " 9.85756388e-01 4.34859841e-01 9.15794437e-01 7.28391552e-01\n",
      " 5.67585232e-01 1.09584193e-01 4.45255432e-01 8.56278745e-01\n",
      " 8.03873688e-01 9.48498143e-01 9.77696730e-01 2.98963129e-01\n",
      " 7.99367285e-01 8.77799773e-01 2.85253151e-01 3.67643206e-01\n",
      " 6.74619165e-01 2.03121850e-01 6.81990441e-01 6.36282758e-01\n",
      " 4.69973589e-01 7.67249970e-01 1.23932216e-01 2.38223575e-01\n",
      " 7.64942091e-01 6.10612474e-01 3.16687254e-01 9.71579650e-01\n",
      " 4.93386418e-01 6.26074753e-01 4.32341301e-01 3.64428801e-01\n",
      " 5.19869667e-01 3.40800524e-01 3.83272787e-01 3.11569183e-01\n",
      " 2.13984512e-01 8.31246966e-01 3.81926169e-01 3.10942717e-01\n",
      " 1.26023447e-01 6.02613669e-02 5.35869585e-01 3.14471174e-01\n",
      " 5.91636475e-01 9.78144109e-01 3.11663757e-01 2.24617244e-01\n",
      " 8.03572846e-01 3.79491927e-01 1.42081449e-01 7.97953820e-01\n",
      " 7.94658655e-01 1.72652325e-01 5.27409446e-01 7.05277183e-01]\n"
     ]
    },
    {
     "data": {
      "image/png": "[encoded data removed]",
      "text/plain": [
       "<Figure size 432x288 with 2 Axes>"
      ]
     },
     "metadata": {
      "needs_background": "light"
     },
     "output_type": "display_data"
    }
   ],
   "source": [
    "# your code here\n",
    "\n",
    "def generate_uniform(bottom, ceiling, count):\n",
    "    x = stats.uniform.rvs(size=count)\n",
    "    print(x)\n",
    "    a = bottom\n",
    "    b = ceiling\n",
    "    randoms = a + (b-a)*x\n",
    "    return randoms\n",
    "\n",
    "u1 = generate_uniform(bottom=10, ceiling=15, count=100)\n",
    "u2= generate_uniform(bottom=10, ceiling=60, count=1000)\n",
    "\n",
    "fig, (ax1, ax2) = plt.subplots(1, 2, sharey=True)\n",
    "ax1.hist(u1)\n",
    "ax2.hist(u2);"
   ]
  },
  {
   "cell_type": "markdown",
   "metadata": {},
   "source": [
    "How are the two distributions different?"
   ]
  },
  {
   "cell_type": "code",
   "execution_count": 14,
   "metadata": {},
   "outputs": [],
   "source": [
    "# your answer below\n",
    "\n",
    "#the distributions are both uniform but they differ in their range of values"
   ]
  },
  {
   "cell_type": "markdown",
   "metadata": {},
   "source": [
    "## Normal Distribution\n",
    "\n",
    "1. In the same way in the Uniform Distribution challenge, write a function that generates normally distributed random numbers.\n",
    "1. Generate 1,000 normally distributed numbers with the average of 10 and standard deviation of 1\n",
    "1. Generate 1,000 normally distributed numbers with the average of 10 and standard deviation of 50\n",
    "2. Plot the distributions of the data generated.\n",
    "\n",
    "Expected output:\n",
    "\n",
    "![normal distribution](nd.png)"
   ]
  },
  {
   "cell_type": "code",
   "execution_count": 16,
   "metadata": {},
   "outputs": [
    {
     "data": {
      "image/png": "[encoded data removed]",
      "text/plain": [
       "<Figure size 432x288 with 2 Axes>"
      ]
     },
     "metadata": {
      "needs_background": "light"
     },
     "output_type": "display_data"
    }
   ],
   "source": [
    "# your code here\n",
    "\n",
    "def generate_normal(mean, std):\n",
    "    normal = stats.norm(mean, std) \n",
    "    return normal.rvs(size=1000)\n",
    "\n",
    "n1 = generate_normal(10, 1)\n",
    "n2 = generate_normal(10, 50)\n",
    "\n",
    "fig, (ax1, ax2) = plt.subplots(1, 2, sharey = True)\n",
    "ax1.hist(n1, bins=50)\n",
    "ax2.hist(n2, bins=50);"
   ]
  },
  {
   "cell_type": "markdown",
   "metadata": {},
   "source": [
    "How are the two distributions different?"
   ]
  },
  {
   "cell_type": "code",
   "execution_count": 17,
   "metadata": {},
   "outputs": [],
   "source": [
    "# your answer below\n",
    "\n",
    "#the distributions are both normal but they differ in their range of values"
   ]
  },
  {
   "cell_type": "markdown",
   "metadata": {},
   "source": [
    "## Normal Distribution of Real Data\n",
    "\n",
    "In this challenge we are going to take a look the real data. We will use vehicles.csv file for this exercise"
   ]
  },
  {
   "cell_type": "markdown",
   "metadata": {},
   "source": [
    "First import vehicles.csv.\n",
    "Then plot the histograms for the following variables:\n",
    "\n",
    "1. Fuel Barrels/Year"
   ]
  },
  {
   "cell_type": "code",
   "execution_count": 19,
   "metadata": {},
   "outputs": [],
   "source": [
    "# your code here\n",
    "\n",
    "vehicles = pd.read_csv('vehicles.csv')"
   ]
  },
  {
   "cell_type": "markdown",
   "metadata": {},
   "source": [
    "2. CO2 Emission Grams/Mile "
   ]
  },
  {
   "cell_type": "code",
   "execution_count": 21,
   "metadata": {},
   "outputs": [
    {
     "data": {
      "image/png": "[encoded data removed]",
      "text/plain": [
       "<Figure size 432x288 with 1 Axes>"
      ]
     },
     "metadata": {
      "needs_background": "light"
     },
     "output_type": "display_data"
    }
   ],
   "source": [
    "# your code here\n",
    "\n",
    "plt.hist(vehicles['CO2 Emission Grams/Mile'], bins= 25);"
   ]
  },
  {
   "cell_type": "markdown",
   "metadata": {},
   "source": [
    "3. Combined MPG"
   ]
  },
  {
   "cell_type": "code",
   "execution_count": 22,
   "metadata": {},
   "outputs": [
    {
     "data": {
      "image/png": "[encoded data removed]",
      "text/plain": [
       "<Figure size 432x288 with 1 Axes>"
      ]
     },
     "metadata": {
      "needs_background": "light"
     },
     "output_type": "display_data"
    }
   ],
   "source": [
    "# your code here\n",
    "\n",
    "plt.hist(vehicles['Combined MPG'], bins= 25);"
   ]
  },
  {
   "cell_type": "markdown",
   "metadata": {},
   "source": [
    "Which one(s) of the variables are nearly normally distributed? How do you know?"
   ]
  },
  {
   "cell_type": "code",
   "execution_count": 23,
   "metadata": {},
   "outputs": [],
   "source": [
    "# your answer here\n",
    "\n",
    "#Maybe a test for normality? - Combined MPG has more of a gaussian shape than CO2 emissions to me."
   ]
  },
  {
   "cell_type": "markdown",
   "metadata": {},
   "source": [
    "## Exponential Distribution"
   ]
  },
  {
   "cell_type": "markdown",
   "metadata": {},
   "source": [
    "1. Using `numpy.random.exponential`, create a function that returns a list of numbers exponentially distributed with the mean of 10. \n",
    "\n",
    "1. Use the function to generate two number sequences with the size of 1 and 100.\n",
    "\n",
    "1. Plot the distributions as histograms with the nubmer of bins as 100.\n",
    "\n",
    "Your output should look like below:\n",
    "\n",
    "![exponential distribution](ed.png)"
   ]
  },
  {
   "cell_type": "code",
   "execution_count": 24,
   "metadata": {},
   "outputs": [
    {
     "data": {
      "image/png": "[encoded data removed]",
      "text/plain": [
       "<Figure size 432x288 with 2 Axes>"
      ]
     },
     "metadata": {
      "needs_background": "light"
     },
     "output_type": "display_data"
    }
   ],
   "source": [
    "# your code here\n",
    "\n",
    "def generate_exp(mean):\n",
    "    return np.random.exponential(mean, 1000)\n",
    "\n",
    "e1 = generate_exp(1)\n",
    "e2 = generate_exp(100)\n",
    "\n",
    "fig, (ax1, ax2) = plt.subplots(1, 2, sharey = True)\n",
    "\n",
    "ax1.hist(e1, bins=100)\n",
    "ax2.hist(e2, bins=100);"
   ]
  },
  {
   "cell_type": "markdown",
   "metadata": {},
   "source": [
    "How are the two distributions different?"
   ]
  },
  {
   "cell_type": "code",
   "execution_count": 25,
   "metadata": {},
   "outputs": [],
   "source": [
    "# your answer here\n",
    "\n",
    "#the range is different?"
   ]
  },
  {
   "cell_type": "markdown",
   "metadata": {},
   "source": [
    "## Exponential Distribution of Real Data\n",
    "\n",
    "Suppose that the amount of time one spends in a bank is exponentially distributed with mean as 10 minutes (i.e. λ = 1/10). What is the probability that a customer will spend less than fifteen minutes in the bank? \n",
    "\n",
    "Write a code in python to solve this problem"
   ]
  },
  {
   "cell_type": "code",
   "execution_count": 26,
   "metadata": {},
   "outputs": [
    {
     "name": "stdout",
     "output_type": "stream",
     "text": [
      "0.7768698398515702\n"
     ]
    }
   ],
   "source": [
    "# your answer here\n",
    "# Hint: This is same as saying P(x<15)\n",
    "\n",
    "\n",
    "# I was trying first to use the model? by just feeding it the parameter but I don't quite understand how it works.\n",
    "lamb = 1/10\n",
    "exp = stats.expon(scale=10)\n",
    "print(exp.cdf(15))"
   ]
  },
  {
   "cell_type": "markdown",
   "metadata": {},
   "source": [
    "What is the probability that the customer will spend more than 15 minutes"
   ]
  },
  {
   "cell_type": "code",
   "execution_count": 27,
   "metadata": {},
   "outputs": [
    {
     "data": {
      "text/plain": [
       "0.2231301601484298"
      ]
     },
     "execution_count": 27,
     "metadata": {},
     "output_type": "execute_result"
    }
   ],
   "source": [
    "# your answer here\n",
    "\n",
    "1 - exp.cdf(15)"
   ]
  },
  {
   "cell_type": "code",
   "execution_count": 29,
   "metadata": {},
   "outputs": [
    {
     "data": {
      "image/png": "[encoded data removed]",
      "text/plain": [
       "<Figure size 432x288 with 1 Axes>"
      ]
     },
     "metadata": {
      "needs_background": "light"
     },
     "output_type": "display_data"
    }
   ],
   "source": [
    "x = np.linspace(exp.ppf(0.01), exp.ppf(0.99), 100)\n",
    "y = exp.pdf(x)\n",
    "plt.plot(x, y);"
   ]
  }
 ],
 "metadata": {
  "kernelspec": {
   "display_name": "Python 3",
   "language": "python",
   "name": "python3"
  },
  "language_info": {
   "codemirror_mode": {
    "name": "ipython",
    "version": 3
   },
   "file_extension": ".py",
   "mimetype": "text/x-python",
   "name": "python",
   "nbconvert_exporter": "python",
   "pygments_lexer": "ipython3",
   "version": "3.7.9"
  }
 },
 "nbformat": 4,
 "nbformat_minor": 2
}
